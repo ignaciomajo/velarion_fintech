{
 "cells": [
  {
   "cell_type": "code",
   "execution_count": 41,
   "id": "4655638d-5abd-4de9-bbab-ca3e21ff6da5",
   "metadata": {},
   "outputs": [],
   "source": [
    "import pandas as pd\n",
    "\n",
    "import imblearn\n",
    "import sqlalchemy\n",
    "import sdv\n",
    "from sqlalchemy import create_engine\n",
    "from sdv.single_table import CTGANSynthesizer\n",
    "from sdv.metadata import SingleTableMetadata\n",
    "from imblearn.over_sampling import SMOTE\n",
    "from sklearn.model_selection import train_test_split"
   ]
  },
  {
   "cell_type": "code",
   "execution_count": 42,
   "id": "4a02d083-e3b4-4f22-bfce-eb128183aea9",
   "metadata": {},
   "outputs": [
    {
     "name": "stdout",
     "output_type": "stream",
     "text": [
      " pandas     2.2.3\n",
      " imblearn   0.14.0\n",
      " sqlalchemy 2.0.38\n",
      " sdv        1.9.0\n"
     ]
    }
   ],
   "source": [
    "print(f\" pandas     {pd.__version__}\")\n",
    "print(f\" imblearn   {imblearn.__version__}\")\n",
    "print(f\" sqlalchemy {sqlalchemy.__version__}\")\n",
    "print(f\" sdv        {sdv.__version__}\")"
   ]
  },
  {
   "cell_type": "code",
   "execution_count": 43,
   "id": "2b83d92a-1b3c-407a-aacd-b863293cdbd5",
   "metadata": {},
   "outputs": [],
   "source": [
    "df_churn = pd.read_csv(\"../src/dataset_churn.csv\")"
   ]
  },
  {
   "cell_type": "code",
   "execution_count": 44,
   "id": "f0cee06c-ebc5-46f0-abf4-fb469ffb1cd0",
   "metadata": {},
   "outputs": [
    {
     "data": {
      "text/plain": [
       "(9455, 31)"
      ]
     },
     "execution_count": 44,
     "metadata": {},
     "output_type": "execute_result"
    }
   ],
   "source": [
    "df_churn.shape"
   ]
  },
  {
   "cell_type": "code",
   "execution_count": 45,
   "id": "0cfc4ea8-67c8-43c8-aeb9-279a5d9cb87f",
   "metadata": {},
   "outputs": [
    {
     "data": {
      "text/plain": [
       "Churn\n",
       "0    0.812692\n",
       "1    0.187308\n",
       "Name: proportion, dtype: float64"
      ]
     },
     "execution_count": 45,
     "metadata": {},
     "output_type": "execute_result"
    }
   ],
   "source": [
    "df_churn['Churn'].value_counts(normalize=True)"
   ]
  },
  {
   "cell_type": "code",
   "execution_count": 46,
   "id": "2c85c7d9-3cfa-4e7c-9c4e-067b78fbdee5",
   "metadata": {},
   "outputs": [],
   "source": [
    "features = ['CreditScore', 'Age', 'Tenure',\n",
    "       'Balance', 'NumOfProducts', 'HasCrCard', 'IsActiveMember',\n",
    "       'EstimatedSalary', 'days_since_last_tx', 'txs_avg_amount', 'amount_std',\n",
    "       'avg_cashout_amount', 'ratio_recent_vs_past_txs',\n",
    "       'ratio_recent_vs_past_amount', 'ratio_cashouts', 'ratio_transfers',\n",
    "       'inflation_pressure', 'days_since_last_ss', 'total_ss_past30d',\n",
    "       'total_ss_past90d', 'avg_ss_per_wk', 'avg_ss_duration_min',\n",
    "       'std_ss_duration_min', 'ratio_ss_time_recent_vs_past',\n",
    "       'ratio_events_sessios', 'ratio_failed_ss', 'total_opened_push']"
   ]
  },
  {
   "cell_type": "code",
   "execution_count": 47,
   "id": "428cc509-98d3-4007-b858-437facc3db17",
   "metadata": {},
   "outputs": [],
   "source": [
    "X = df_churn[features]"
   ]
  },
  {
   "cell_type": "code",
   "execution_count": 48,
   "id": "aa67f960-4d1c-475b-8f67-4a91d4e4f617",
   "metadata": {},
   "outputs": [],
   "source": [
    "y = df_churn[['Churn']]"
   ]
  },
  {
   "cell_type": "code",
   "execution_count": 49,
   "id": "016f202f-e040-48b0-b566-bfcf8b19f684",
   "metadata": {},
   "outputs": [],
   "source": [
    "sm = SMOTE(random_state=42)"
   ]
  },
  {
   "cell_type": "code",
   "execution_count": 50,
   "id": "fd339b44-1d05-4d93-8d09-d5a1cd79adb7",
   "metadata": {},
   "outputs": [],
   "source": [
    "data_x, data_y = sm.fit_resample(X, y)"
   ]
  },
  {
   "cell_type": "code",
   "execution_count": 52,
   "id": "8687a945-79ff-413c-92d7-bedd6502d4a8",
   "metadata": {},
   "outputs": [
    {
     "data": {
      "text/plain": [
       "(15368, 27)"
      ]
     },
     "execution_count": 52,
     "metadata": {},
     "output_type": "execute_result"
    }
   ],
   "source": [
    "data_x.shape"
   ]
  },
  {
   "cell_type": "code",
   "execution_count": 53,
   "id": "28afd504-fbb7-4b01-889a-ba0130ec365c",
   "metadata": {},
   "outputs": [
    {
     "data": {
      "text/plain": [
       "(15368, 1)"
      ]
     },
     "execution_count": 53,
     "metadata": {},
     "output_type": "execute_result"
    }
   ],
   "source": [
    "data_y.shape"
   ]
  },
  {
   "cell_type": "code",
   "execution_count": 51,
   "id": "67aeed10-8047-4f03-b2f6-f23ffc32979a",
   "metadata": {},
   "outputs": [
    {
     "data": {
      "text/plain": [
       "Churn\n",
       "1    0.5\n",
       "0    0.5\n",
       "Name: proportion, dtype: float64"
      ]
     },
     "execution_count": 51,
     "metadata": {},
     "output_type": "execute_result"
    }
   ],
   "source": [
    "data_y['Churn'].value_counts(normalize=True)"
   ]
  },
  {
   "cell_type": "code",
   "execution_count": 54,
   "id": "9402899a-bde4-435c-83ef-d429f5ca1cb8",
   "metadata": {},
   "outputs": [
    {
     "data": {
      "text/html": [
       "<div>\n",
       "<style scoped>\n",
       "    .dataframe tbody tr th:only-of-type {\n",
       "        vertical-align: middle;\n",
       "    }\n",
       "\n",
       "    .dataframe tbody tr th {\n",
       "        vertical-align: top;\n",
       "    }\n",
       "\n",
       "    .dataframe thead th {\n",
       "        text-align: right;\n",
       "    }\n",
       "</style>\n",
       "<table border=\"1\" class=\"dataframe\">\n",
       "  <thead>\n",
       "    <tr style=\"text-align: right;\">\n",
       "      <th></th>\n",
       "      <th>Churn</th>\n",
       "    </tr>\n",
       "  </thead>\n",
       "  <tbody>\n",
       "    <tr>\n",
       "      <th>0</th>\n",
       "      <td>1</td>\n",
       "    </tr>\n",
       "    <tr>\n",
       "      <th>1</th>\n",
       "      <td>0</td>\n",
       "    </tr>\n",
       "    <tr>\n",
       "      <th>2</th>\n",
       "      <td>1</td>\n",
       "    </tr>\n",
       "    <tr>\n",
       "      <th>3</th>\n",
       "      <td>0</td>\n",
       "    </tr>\n",
       "    <tr>\n",
       "      <th>4</th>\n",
       "      <td>0</td>\n",
       "    </tr>\n",
       "  </tbody>\n",
       "</table>\n",
       "</div>"
      ],
      "text/plain": [
       "   Churn\n",
       "0      1\n",
       "1      0\n",
       "2      1\n",
       "3      0\n",
       "4      0"
      ]
     },
     "execution_count": 54,
     "metadata": {},
     "output_type": "execute_result"
    }
   ],
   "source": [
    "data_y.head()"
   ]
  },
  {
   "cell_type": "code",
   "execution_count": 56,
   "id": "1630780c-55c2-4b5c-9ef2-384a75d01e04",
   "metadata": {},
   "outputs": [],
   "source": [
    "X_balanceado, X_database, y_balanceado, y_database = train_test_split(\n",
    "    data_x, data_y,\n",
    "    test_size=3000,        # exatamente 3000 linhas\n",
    "    stratify=data_y,            # mantém 50% churn 0 e 50% churn 1\n",
    "    random_state=42,       # garante reprodutibilidade\n",
    "    shuffle=True           # mistura as linhas\n",
    ")"
   ]
  },
  {
   "cell_type": "code",
   "execution_count": 57,
   "id": "776b9de6-8278-46a9-be37-fa60800e49c0",
   "metadata": {},
   "outputs": [],
   "source": [
    "dataset_balanceado = pd.concat([X_balanceado,y_balanceado],ignore_index=False, axis=1)"
   ]
  },
  {
   "cell_type": "code",
   "execution_count": 58,
   "id": "ef4de130-e36e-4960-8a7e-17deb8eb51e8",
   "metadata": {},
   "outputs": [
    {
     "data": {
      "text/html": [
       "<div>\n",
       "<style scoped>\n",
       "    .dataframe tbody tr th:only-of-type {\n",
       "        vertical-align: middle;\n",
       "    }\n",
       "\n",
       "    .dataframe tbody tr th {\n",
       "        vertical-align: top;\n",
       "    }\n",
       "\n",
       "    .dataframe thead th {\n",
       "        text-align: right;\n",
       "    }\n",
       "</style>\n",
       "<table border=\"1\" class=\"dataframe\">\n",
       "  <thead>\n",
       "    <tr style=\"text-align: right;\">\n",
       "      <th></th>\n",
       "      <th>CreditScore</th>\n",
       "      <th>Age</th>\n",
       "      <th>Tenure</th>\n",
       "      <th>Balance</th>\n",
       "      <th>NumOfProducts</th>\n",
       "      <th>HasCrCard</th>\n",
       "      <th>IsActiveMember</th>\n",
       "      <th>EstimatedSalary</th>\n",
       "      <th>days_since_last_tx</th>\n",
       "      <th>txs_avg_amount</th>\n",
       "      <th>...</th>\n",
       "      <th>total_ss_past30d</th>\n",
       "      <th>total_ss_past90d</th>\n",
       "      <th>avg_ss_per_wk</th>\n",
       "      <th>avg_ss_duration_min</th>\n",
       "      <th>std_ss_duration_min</th>\n",
       "      <th>ratio_ss_time_recent_vs_past</th>\n",
       "      <th>ratio_events_sessios</th>\n",
       "      <th>ratio_failed_ss</th>\n",
       "      <th>total_opened_push</th>\n",
       "      <th>Churn</th>\n",
       "    </tr>\n",
       "  </thead>\n",
       "  <tbody>\n",
       "    <tr>\n",
       "      <th>4891</th>\n",
       "      <td>591</td>\n",
       "      <td>27</td>\n",
       "      <td>5</td>\n",
       "      <td>107812.67000</td>\n",
       "      <td>1</td>\n",
       "      <td>0</td>\n",
       "      <td>1</td>\n",
       "      <td>162501.830000</td>\n",
       "      <td>1</td>\n",
       "      <td>111524.559643</td>\n",
       "      <td>...</td>\n",
       "      <td>2</td>\n",
       "      <td>8</td>\n",
       "      <td>1.238095</td>\n",
       "      <td>12.453194</td>\n",
       "      <td>8.350533</td>\n",
       "      <td>0.117002</td>\n",
       "      <td>-2.197225</td>\n",
       "      <td>-3.295837</td>\n",
       "      <td>3</td>\n",
       "      <td>1</td>\n",
       "    </tr>\n",
       "    <tr>\n",
       "      <th>9010</th>\n",
       "      <td>603</td>\n",
       "      <td>38</td>\n",
       "      <td>8</td>\n",
       "      <td>59360.77000</td>\n",
       "      <td>1</td>\n",
       "      <td>1</td>\n",
       "      <td>1</td>\n",
       "      <td>191457.060000</td>\n",
       "      <td>1</td>\n",
       "      <td>133911.997589</td>\n",
       "      <td>...</td>\n",
       "      <td>5</td>\n",
       "      <td>12</td>\n",
       "      <td>0.960000</td>\n",
       "      <td>20.413926</td>\n",
       "      <td>16.404494</td>\n",
       "      <td>-0.489130</td>\n",
       "      <td>-1.139434</td>\n",
       "      <td>-2.525729</td>\n",
       "      <td>4</td>\n",
       "      <td>0</td>\n",
       "    </tr>\n",
       "    <tr>\n",
       "      <th>8658</th>\n",
       "      <td>778</td>\n",
       "      <td>24</td>\n",
       "      <td>4</td>\n",
       "      <td>0.00000</td>\n",
       "      <td>2</td>\n",
       "      <td>1</td>\n",
       "      <td>1</td>\n",
       "      <td>162809.200000</td>\n",
       "      <td>2</td>\n",
       "      <td>131753.792842</td>\n",
       "      <td>...</td>\n",
       "      <td>1</td>\n",
       "      <td>9</td>\n",
       "      <td>1.105263</td>\n",
       "      <td>11.637624</td>\n",
       "      <td>7.867073</td>\n",
       "      <td>-0.845461</td>\n",
       "      <td>-2.397895</td>\n",
       "      <td>-3.091042</td>\n",
       "      <td>5</td>\n",
       "      <td>0</td>\n",
       "    </tr>\n",
       "    <tr>\n",
       "      <th>9548</th>\n",
       "      <td>511</td>\n",
       "      <td>53</td>\n",
       "      <td>1</td>\n",
       "      <td>75535.30918</td>\n",
       "      <td>1</td>\n",
       "      <td>0</td>\n",
       "      <td>0</td>\n",
       "      <td>143880.531485</td>\n",
       "      <td>18</td>\n",
       "      <td>101093.825387</td>\n",
       "      <td>...</td>\n",
       "      <td>2</td>\n",
       "      <td>12</td>\n",
       "      <td>0.963621</td>\n",
       "      <td>20.816539</td>\n",
       "      <td>16.271408</td>\n",
       "      <td>-0.825373</td>\n",
       "      <td>-1.051800</td>\n",
       "      <td>-2.620171</td>\n",
       "      <td>2</td>\n",
       "      <td>1</td>\n",
       "    </tr>\n",
       "    <tr>\n",
       "      <th>3731</th>\n",
       "      <td>728</td>\n",
       "      <td>45</td>\n",
       "      <td>3</td>\n",
       "      <td>108924.33000</td>\n",
       "      <td>2</td>\n",
       "      <td>1</td>\n",
       "      <td>0</td>\n",
       "      <td>84300.400000</td>\n",
       "      <td>25</td>\n",
       "      <td>166440.485556</td>\n",
       "      <td>...</td>\n",
       "      <td>1</td>\n",
       "      <td>11</td>\n",
       "      <td>0.923077</td>\n",
       "      <td>14.323010</td>\n",
       "      <td>12.189964</td>\n",
       "      <td>-0.819413</td>\n",
       "      <td>-1.139434</td>\n",
       "      <td>-3.218876</td>\n",
       "      <td>4</td>\n",
       "      <td>1</td>\n",
       "    </tr>\n",
       "  </tbody>\n",
       "</table>\n",
       "<p>5 rows × 28 columns</p>\n",
       "</div>"
      ],
      "text/plain": [
       "      CreditScore  Age  Tenure       Balance  NumOfProducts  HasCrCard  \\\n",
       "4891          591   27       5  107812.67000              1          0   \n",
       "9010          603   38       8   59360.77000              1          1   \n",
       "8658          778   24       4       0.00000              2          1   \n",
       "9548          511   53       1   75535.30918              1          0   \n",
       "3731          728   45       3  108924.33000              2          1   \n",
       "\n",
       "      IsActiveMember  EstimatedSalary  days_since_last_tx  txs_avg_amount  \\\n",
       "4891               1    162501.830000                   1   111524.559643   \n",
       "9010               1    191457.060000                   1   133911.997589   \n",
       "8658               1    162809.200000                   2   131753.792842   \n",
       "9548               0    143880.531485                  18   101093.825387   \n",
       "3731               0     84300.400000                  25   166440.485556   \n",
       "\n",
       "      ...  total_ss_past30d  total_ss_past90d  avg_ss_per_wk  \\\n",
       "4891  ...                 2                 8       1.238095   \n",
       "9010  ...                 5                12       0.960000   \n",
       "8658  ...                 1                 9       1.105263   \n",
       "9548  ...                 2                12       0.963621   \n",
       "3731  ...                 1                11       0.923077   \n",
       "\n",
       "      avg_ss_duration_min  std_ss_duration_min  ratio_ss_time_recent_vs_past  \\\n",
       "4891            12.453194             8.350533                      0.117002   \n",
       "9010            20.413926            16.404494                     -0.489130   \n",
       "8658            11.637624             7.867073                     -0.845461   \n",
       "9548            20.816539            16.271408                     -0.825373   \n",
       "3731            14.323010            12.189964                     -0.819413   \n",
       "\n",
       "      ratio_events_sessios  ratio_failed_ss  total_opened_push  Churn  \n",
       "4891             -2.197225        -3.295837                  3      1  \n",
       "9010             -1.139434        -2.525729                  4      0  \n",
       "8658             -2.397895        -3.091042                  5      0  \n",
       "9548             -1.051800        -2.620171                  2      1  \n",
       "3731             -1.139434        -3.218876                  4      1  \n",
       "\n",
       "[5 rows x 28 columns]"
      ]
     },
     "execution_count": 58,
     "metadata": {},
     "output_type": "execute_result"
    }
   ],
   "source": [
    "dataset_balanceado.head()"
   ]
  },
  {
   "cell_type": "code",
   "execution_count": 59,
   "id": "a3a411fd-3379-4773-8799-839eb3a88d65",
   "metadata": {},
   "outputs": [
    {
     "data": {
      "text/plain": [
       "(12368, 28)"
      ]
     },
     "execution_count": 59,
     "metadata": {},
     "output_type": "execute_result"
    }
   ],
   "source": [
    "dataset_balanceado.shape"
   ]
  },
  {
   "cell_type": "code",
   "execution_count": 60,
   "id": "58c5be32-ebb9-4996-8e62-81f68cd2c52c",
   "metadata": {},
   "outputs": [],
   "source": [
    "dataset_database = pd.concat([X_database,y_database],ignore_index=False, axis=1)"
   ]
  },
  {
   "cell_type": "code",
   "execution_count": 61,
   "id": "7282b17e-a6c0-4018-bc05-93db239d0de5",
   "metadata": {},
   "outputs": [
    {
     "data": {
      "text/plain": [
       "(3000, 28)"
      ]
     },
     "execution_count": 61,
     "metadata": {},
     "output_type": "execute_result"
    }
   ],
   "source": [
    "dataset_database.shape"
   ]
  },
  {
   "cell_type": "code",
   "execution_count": null,
   "id": "84819939-b113-46cc-86e2-622ffa13129d",
   "metadata": {},
   "outputs": [],
   "source": [
    "dataset_database.head()"
   ]
  },
  {
   "cell_type": "code",
   "execution_count": 62,
   "id": "a74ad6f8-78ba-47fb-bc49-8fac9c108f7b",
   "metadata": {},
   "outputs": [],
   "source": [
    "dataset_balanceado.to_csv(\"../src/dataset_churn_balanceado.csv\")\n",
    "dataset_database.to_csv(\"../src/dataset_churn_database.csv\")"
   ]
  },
  {
   "cell_type": "code",
   "execution_count": null,
   "id": "63f3e3a5-b158-407a-9e0d-f9ace9b2bd80",
   "metadata": {},
   "outputs": [],
   "source": []
  }
 ],
 "metadata": {
  "kernelspec": {
   "display_name": "Python 3 (ipykernel)",
   "language": "python",
   "name": "python3"
  },
  "language_info": {
   "codemirror_mode": {
    "name": "ipython",
    "version": 3
   },
   "file_extension": ".py",
   "mimetype": "text/x-python",
   "name": "python",
   "nbconvert_exporter": "python",
   "pygments_lexer": "ipython3",
   "version": "3.10.12"
  }
 },
 "nbformat": 4,
 "nbformat_minor": 5
}
