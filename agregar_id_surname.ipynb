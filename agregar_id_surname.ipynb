{
 "cells": [
  {
   "cell_type": "code",
   "execution_count": null,
   "id": "1825e11b-d07a-4071-a2fa-1c899c77ef4e",
   "metadata": {},
   "outputs": [],
   "source": [
    "import pandas as pd"
   ]
  },
  {
   "cell_type": "code",
   "execution_count": null,
   "id": "e82b4067-2f05-4f0f-850e-9405fadd436c",
   "metadata": {},
   "outputs": [],
   "source": [
    "df_latest = pd.read_csv(\"src/latest_dataset.csv\")\n",
    "df_2 = pd.read_csv(\"src/latest_dataset2.csv\")"
   ]
  },
  {
   "cell_type": "code",
   "execution_count": 38,
   "id": "2e33e521-c67a-4b29-87a8-f8fec793c3ec",
   "metadata": {},
   "outputs": [
    {
     "name": "stdout",
     "output_type": "stream",
     "text": [
      "(7486, 24)\n",
      "(7486, 26)\n"
     ]
    }
   ],
   "source": [
    "print(df_latest.shape)\n",
    "print(df_2.shape)"
   ]
  },
  {
   "cell_type": "code",
   "execution_count": 40,
   "id": "470ca0f9-322c-48c7-9aac-bd9a98b18381",
   "metadata": {},
   "outputs": [
    {
     "name": "stdout",
     "output_type": "stream",
     "text": [
      "Index(['Geography_Germany', 'Geography_Spain', 'Gender_Male', 'CreditScore',\n",
      "       'Age', 'Tenure', 'Balance', 'NumOfProducts', 'HasCrCard',\n",
      "       'IsActiveMember', 'EstimatedSalary', 'avg_tx_amount', 'std_tx_amount',\n",
      "       'days_since_last_tx', 'tx_q1q2_rate_of_change',\n",
      "       'tx_q2q3_rate_of_change', 'avg_ss_duration', 'std_ss_duration',\n",
      "       'days_since_last_ss', 'ss_q1q2_rate_of_change',\n",
      "       'ss_q2q3_rate_of_change', 'failed_ratio_spike_q2',\n",
      "       'failed_ratio_spike_q3', 'failed_ratio_volatility'],\n",
      "      dtype='object')\n",
      "Index(['CustomerId', 'Surname', 'CreditScore', 'Geography', 'Gender', 'Age',\n",
      "       'Tenure', 'Balance', 'NumOfProducts', 'HasCrCard', 'IsActiveMember',\n",
      "       'EstimatedSalary', 'cluster_label', 'avg_tx_amount', 'std_tx_amount',\n",
      "       'days_since_last_tx', 'tx_q1q2_rate_of_change',\n",
      "       'tx_q2q3_rate_of_change', 'avg_ss_duration', 'std_ss_duration',\n",
      "       'days_since_last_ss', 'ss_q1q2_rate_of_change',\n",
      "       'ss_q2q3_rate_of_change', 'failed_ratio_spike_q2',\n",
      "       'failed_ratio_spike_q3', 'failed_ratio_volatility'],\n",
      "      dtype='object')\n"
     ]
    }
   ],
   "source": [
    "print(df_latest.columns)\n",
    "print(df_2.columns)"
   ]
  },
  {
   "cell_type": "code",
   "execution_count": 41,
   "id": "a7c6ca26-cfd8-4762-9f17-35a8d264e0cf",
   "metadata": {},
   "outputs": [],
   "source": [
    "df_latest['CustomerId'] = df_2['CustomerId']\n",
    "df_latest['Surname'] = df_2['Surname']\n"
   ]
  },
  {
   "cell_type": "code",
   "execution_count": 43,
   "id": "b7da78bd-918b-4105-b00a-4e4880029a7a",
   "metadata": {},
   "outputs": [],
   "source": [
    "df_latest.to_csv(\"src/latest_dataset2.csv\", index=False)"
   ]
  },
  {
   "cell_type": "code",
   "execution_count": null,
   "id": "cbb95421-3c87-4474-807d-fc2badebe055",
   "metadata": {},
   "outputs": [],
   "source": []
  }
 ],
 "metadata": {
  "kernelspec": {
   "display_name": "Python 3 (ipykernel)",
   "language": "python",
   "name": "python3"
  },
  "language_info": {
   "codemirror_mode": {
    "name": "ipython",
    "version": 3
   },
   "file_extension": ".py",
   "mimetype": "text/x-python",
   "name": "python",
   "nbconvert_exporter": "python",
   "pygments_lexer": "ipython3",
   "version": "3.10.12"
  }
 },
 "nbformat": 4,
 "nbformat_minor": 5
}
