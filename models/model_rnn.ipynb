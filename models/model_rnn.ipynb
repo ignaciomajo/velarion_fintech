{
 "cells": [
  {
   "cell_type": "code",
   "execution_count": 1,
   "id": "52214585",
   "metadata": {},
   "outputs": [
    {
     "name": "stderr",
     "output_type": "stream",
     "text": [
      "2025-10-12 10:04:06.059399: E tensorflow/compiler/xla/stream_executor/cuda/cuda_dnn.cc:9342] Unable to register cuDNN factory: Attempting to register factory for plugin cuDNN when one has already been registered\n",
      "2025-10-12 10:04:06.059427: E tensorflow/compiler/xla/stream_executor/cuda/cuda_fft.cc:609] Unable to register cuFFT factory: Attempting to register factory for plugin cuFFT when one has already been registered\n",
      "2025-10-12 10:04:06.059448: E tensorflow/compiler/xla/stream_executor/cuda/cuda_blas.cc:1518] Unable to register cuBLAS factory: Attempting to register factory for plugin cuBLAS when one has already been registered\n",
      "2025-10-12 10:04:06.065514: I tensorflow/core/platform/cpu_feature_guard.cc:182] This TensorFlow binary is optimized to use available CPU instructions in performance-critical operations.\n",
      "To enable the following instructions: AVX2 FMA, in other operations, rebuild TensorFlow with the appropriate compiler flags.\n",
      "2025-10-12 10:04:16.831481: W tensorflow/compiler/tf2tensorrt/utils/py_utils.cc:38] TF-TRT Warning: Could not find TensorRT\n"
     ]
    }
   ],
   "source": [
    "import pandas as pd\n",
    "import numpy as np\n",
    "\n",
    "from sklearn.model_selection import train_test_split\n",
    "from sklearn.preprocessing import StandardScaler, OneHotEncoder\n",
    "from sklearn.compose import ColumnTransformer\n",
    "from sklearn.pipeline import Pipeline\n",
    "\n",
    "from tensorflow.keras.models import Sequential\n",
    "from tensorflow.keras.layers import Dense, Dropout\n",
    "import joblib"
   ]
  },
  {
   "cell_type": "code",
   "execution_count": 4,
   "id": "c1892e91",
   "metadata": {},
   "outputs": [],
   "source": [
    "df_churn = pd.read_csv(\"../src/dataset_churn.csv\")"
   ]
  },
  {
   "cell_type": "code",
   "execution_count": 5,
   "id": "26ab5f90",
   "metadata": {},
   "outputs": [
    {
     "data": {
      "text/plain": [
       "Index(['CustomerId', 'CreditScore', 'Geography', 'Gender', 'Age', 'Tenure',\n",
       "       'Balance', 'NumOfProducts', 'HasCrCard', 'IsActiveMember',\n",
       "       'EstimatedSalary', 'days_since_last_tx', 'txs_avg_amount', 'amount_std',\n",
       "       'avg_cashout_amount', 'ratio_recent_vs_past_txs',\n",
       "       'ratio_recent_vs_past_amount', 'ratio_cashouts', 'ratio_transfers',\n",
       "       'inflation_pressure', 'days_since_last_ss', 'total_ss_past30d',\n",
       "       'total_ss_past90d', 'avg_ss_per_wk', 'avg_ss_duration_min',\n",
       "       'std_ss_duration_min', 'ratio_ss_time_recent_vs_past',\n",
       "       'ratio_events_sessios', 'ratio_failed_ss', 'total_opened_push',\n",
       "       'Churn'],\n",
       "      dtype='object')"
      ]
     },
     "execution_count": 5,
     "metadata": {},
     "output_type": "execute_result"
    }
   ],
   "source": [
    "df_churn.columns"
   ]
  },
  {
   "cell_type": "code",
   "execution_count": 23,
   "id": "638eed70-6277-48bc-ae7d-a13540542f6d",
   "metadata": {},
   "outputs": [],
   "source": [
    "features = ['CreditScore', 'Age', 'Tenure',\n",
    "       'Balance', 'NumOfProducts', 'HasCrCard', 'IsActiveMember',\n",
    "       'EstimatedSalary', 'days_since_last_tx', 'txs_avg_amount', 'amount_std',\n",
    "       'avg_cashout_amount', 'ratio_recent_vs_past_txs',\n",
    "       'ratio_recent_vs_past_amount', 'ratio_cashouts', 'ratio_transfers',\n",
    "       'inflation_pressure', 'days_since_last_ss', 'total_ss_past30d',\n",
    "       'total_ss_past90d', 'avg_ss_per_wk', 'avg_ss_duration_min',\n",
    "       'std_ss_duration_min', 'ratio_ss_time_recent_vs_past',\n",
    "       'ratio_events_sessios', 'ratio_failed_ss', 'total_opened_push']"
   ]
  },
  {
   "cell_type": "code",
   "execution_count": 24,
   "id": "e56ea2d2",
   "metadata": {},
   "outputs": [],
   "source": [
    "X = df_churn[features]"
   ]
  },
  {
   "cell_type": "code",
   "execution_count": 25,
   "id": "5a75132c",
   "metadata": {},
   "outputs": [],
   "source": [
    "y = df_churn[['Churn']]"
   ]
  },
  {
   "cell_type": "code",
   "execution_count": 26,
   "id": "7a5ba02f",
   "metadata": {},
   "outputs": [
    {
     "name": "stdout",
     "output_type": "stream",
     "text": [
      "(9455, 27)\n",
      "(9455, 1)\n"
     ]
    }
   ],
   "source": [
    "print(X.shape)\n",
    "print(y.shape)"
   ]
  },
  {
   "cell_type": "code",
   "execution_count": 27,
   "id": "517c7b80",
   "metadata": {},
   "outputs": [],
   "source": [
    "X = pd.get_dummies(X, drop_first=True)"
   ]
  },
  {
   "cell_type": "code",
   "execution_count": 28,
   "id": "9d1a4f24-877e-473e-b76e-1d0f66ef4e24",
   "metadata": {},
   "outputs": [],
   "source": [
    "scaler = StandardScaler()"
   ]
  },
  {
   "cell_type": "code",
   "execution_count": 29,
   "id": "5f6874ab-0bfe-46cb-9c2e-ec014272aad0",
   "metadata": {},
   "outputs": [],
   "source": [
    "preprocessor = ColumnTransformer(\n",
    "    transformers=[\n",
    "        ('num', scaler , features)\n",
    "    ]\n",
    ")"
   ]
  },
  {
   "cell_type": "code",
   "execution_count": 30,
   "id": "3e3653d2-384d-4d68-875a-5dd3bd8aa568",
   "metadata": {},
   "outputs": [],
   "source": [
    "X_processed = preprocessor.fit_transform(X)"
   ]
  },
  {
   "cell_type": "code",
   "execution_count": 31,
   "id": "463fb754-18c2-494f-9838-d4dccca2ece7",
   "metadata": {},
   "outputs": [
    {
     "data": {
      "text/plain": [
       "['pipeline_churn.pkl']"
      ]
     },
     "execution_count": 31,
     "metadata": {},
     "output_type": "execute_result"
    }
   ],
   "source": [
    "joblib.dump(preprocessor, \"pipeline_churn.pkl\") "
   ]
  },
  {
   "cell_type": "code",
   "execution_count": 33,
   "id": "9432981f-7ab2-415c-86dd-70e33838ad58",
   "metadata": {},
   "outputs": [
    {
     "data": {
      "text/plain": [
       "(9455, 27)"
      ]
     },
     "execution_count": 33,
     "metadata": {},
     "output_type": "execute_result"
    }
   ],
   "source": [
    "X_processed.shape"
   ]
  },
  {
   "cell_type": "code",
   "execution_count": 35,
   "id": "bf83869d-bcf1-4d53-8c1d-5764ca4122a4",
   "metadata": {},
   "outputs": [],
   "source": [
    "X_train, X_test, y_train, y_test = train_test_split(X_processed ,y, test_size=0.2, random_state=42)"
   ]
  },
  {
   "cell_type": "code",
   "execution_count": 36,
   "id": "b4b629cf-8acb-4296-93d3-34f168f3fd2f",
   "metadata": {},
   "outputs": [
    {
     "name": "stderr",
     "output_type": "stream",
     "text": [
      "2025-10-12 10:09:43.652655: I tensorflow/compiler/xla/stream_executor/cuda/cuda_gpu_executor.cc:894] successful NUMA node read from SysFS had negative value (-1), but there must be at least one NUMA node, so returning NUMA node zero. See more at https://github.com/torvalds/linux/blob/v6.0/Documentation/ABI/testing/sysfs-bus-pci#L344-L355\n",
      "2025-10-12 10:09:46.836998: I tensorflow/compiler/xla/stream_executor/cuda/cuda_gpu_executor.cc:894] successful NUMA node read from SysFS had negative value (-1), but there must be at least one NUMA node, so returning NUMA node zero. See more at https://github.com/torvalds/linux/blob/v6.0/Documentation/ABI/testing/sysfs-bus-pci#L344-L355\n",
      "2025-10-12 10:09:46.837585: I tensorflow/compiler/xla/stream_executor/cuda/cuda_gpu_executor.cc:894] successful NUMA node read from SysFS had negative value (-1), but there must be at least one NUMA node, so returning NUMA node zero. See more at https://github.com/torvalds/linux/blob/v6.0/Documentation/ABI/testing/sysfs-bus-pci#L344-L355\n",
      "2025-10-12 10:09:46.840464: I tensorflow/compiler/xla/stream_executor/cuda/cuda_gpu_executor.cc:894] successful NUMA node read from SysFS had negative value (-1), but there must be at least one NUMA node, so returning NUMA node zero. See more at https://github.com/torvalds/linux/blob/v6.0/Documentation/ABI/testing/sysfs-bus-pci#L344-L355\n",
      "2025-10-12 10:09:46.841039: I tensorflow/compiler/xla/stream_executor/cuda/cuda_gpu_executor.cc:894] successful NUMA node read from SysFS had negative value (-1), but there must be at least one NUMA node, so returning NUMA node zero. See more at https://github.com/torvalds/linux/blob/v6.0/Documentation/ABI/testing/sysfs-bus-pci#L344-L355\n",
      "2025-10-12 10:09:46.841995: I tensorflow/compiler/xla/stream_executor/cuda/cuda_gpu_executor.cc:894] successful NUMA node read from SysFS had negative value (-1), but there must be at least one NUMA node, so returning NUMA node zero. See more at https://github.com/torvalds/linux/blob/v6.0/Documentation/ABI/testing/sysfs-bus-pci#L344-L355\n",
      "2025-10-12 10:09:47.312474: I tensorflow/compiler/xla/stream_executor/cuda/cuda_gpu_executor.cc:894] successful NUMA node read from SysFS had negative value (-1), but there must be at least one NUMA node, so returning NUMA node zero. See more at https://github.com/torvalds/linux/blob/v6.0/Documentation/ABI/testing/sysfs-bus-pci#L344-L355\n",
      "2025-10-12 10:09:47.313023: I tensorflow/compiler/xla/stream_executor/cuda/cuda_gpu_executor.cc:894] successful NUMA node read from SysFS had negative value (-1), but there must be at least one NUMA node, so returning NUMA node zero. See more at https://github.com/torvalds/linux/blob/v6.0/Documentation/ABI/testing/sysfs-bus-pci#L344-L355\n",
      "2025-10-12 10:09:47.313480: I tensorflow/compiler/xla/stream_executor/cuda/cuda_gpu_executor.cc:894] successful NUMA node read from SysFS had negative value (-1), but there must be at least one NUMA node, so returning NUMA node zero. See more at https://github.com/torvalds/linux/blob/v6.0/Documentation/ABI/testing/sysfs-bus-pci#L344-L355\n",
      "2025-10-12 10:09:47.313809: I tensorflow/core/common_runtime/gpu/gpu_device.cc:1886] Created device /job:localhost/replica:0/task:0/device:GPU:0 with 2742 MB memory:  -> device: 0, name: NVIDIA GeForce GTX 1650, pci bus id: 0000:01:00.0, compute capability: 7.5\n"
     ]
    }
   ],
   "source": [
    "from tensorflow.keras.models import Sequential\n",
    "from tensorflow.keras.layers import Dense, Dropout\n",
    "\n",
    "model = Sequential([\n",
    "    Dense(64, activation='relu', input_shape=(X_train.shape[1],)),  \n",
    "    Dropout(0.3), \n",
    "    Dense(32, activation='relu'), \n",
    "    Dense(1, activation='sigmoid')  \n",
    "])"
   ]
  },
  {
   "cell_type": "code",
   "execution_count": 37,
   "id": "2184bbd6-3222-43e2-bd72-24c30f107b8a",
   "metadata": {},
   "outputs": [
    {
     "name": "stdout",
     "output_type": "stream",
     "text": [
      "Model: \"sequential\"\n",
      "_________________________________________________________________\n",
      " Layer (type)                Output Shape              Param #   \n",
      "=================================================================\n",
      " dense (Dense)               (None, 64)                1792      \n",
      "                                                                 \n",
      " dropout (Dropout)           (None, 64)                0         \n",
      "                                                                 \n",
      " dense_1 (Dense)             (None, 32)                2080      \n",
      "                                                                 \n",
      " dense_2 (Dense)             (None, 1)                 33        \n",
      "                                                                 \n",
      "=================================================================\n",
      "Total params: 3905 (15.25 KB)\n",
      "Trainable params: 3905 (15.25 KB)\n",
      "Non-trainable params: 0 (0.00 Byte)\n",
      "_________________________________________________________________\n"
     ]
    }
   ],
   "source": [
    "model.summary()\n"
   ]
  },
  {
   "cell_type": "code",
   "execution_count": 38,
   "id": "3d5b0d72-2c24-4e0d-a364-cb45ce8e3d40",
   "metadata": {},
   "outputs": [],
   "source": [
    "model.compile(optimizer='adam', loss='binary_crossentropy', metrics=['accuracy'])"
   ]
  },
  {
   "cell_type": "code",
   "execution_count": 39,
   "id": "d846a0e4-e546-4882-ac8f-9190c5e33158",
   "metadata": {},
   "outputs": [
    {
     "name": "stdout",
     "output_type": "stream",
     "text": [
      "Epoch 1/50\n"
     ]
    },
    {
     "name": "stderr",
     "output_type": "stream",
     "text": [
      "2025-10-12 10:10:13.190970: I tensorflow/compiler/xla/service/service.cc:168] XLA service 0x718e94559c40 initialized for platform CUDA (this does not guarantee that XLA will be used). Devices:\n",
      "2025-10-12 10:10:13.191026: I tensorflow/compiler/xla/service/service.cc:176]   StreamExecutor device (0): NVIDIA GeForce GTX 1650, Compute Capability 7.5\n",
      "2025-10-12 10:10:13.400570: I tensorflow/compiler/mlir/tensorflow/utils/dump_mlir_util.cc:269] disabling MLIR crash reproducer, set env var `MLIR_CRASH_REPRODUCER_DIRECTORY` to enable.\n",
      "2025-10-12 10:10:15.468825: I tensorflow/compiler/xla/stream_executor/cuda/cuda_dnn.cc:442] Loaded cuDNN version 8907\n",
      "2025-10-12 10:10:15.782690: I ./tensorflow/compiler/jit/device_compiler.h:186] Compiled cluster using XLA!  This line is logged at most once for the lifetime of the process.\n"
     ]
    },
    {
     "name": "stdout",
     "output_type": "stream",
     "text": [
      "190/190 [==============================] - 11s 4ms/step - loss: 0.4726 - accuracy: 0.7845 - val_loss: 0.3688 - val_accuracy: 0.8420\n",
      "Epoch 2/50\n",
      "190/190 [==============================] - 1s 3ms/step - loss: 0.3626 - accuracy: 0.8528 - val_loss: 0.3316 - val_accuracy: 0.8612\n",
      "Epoch 3/50\n",
      "190/190 [==============================] - 1s 3ms/step - loss: 0.3395 - accuracy: 0.8637 - val_loss: 0.3135 - val_accuracy: 0.8724\n",
      "Epoch 4/50\n",
      "190/190 [==============================] - 1s 3ms/step - loss: 0.3213 - accuracy: 0.8716 - val_loss: 0.3064 - val_accuracy: 0.8744\n",
      "Epoch 5/50\n",
      "190/190 [==============================] - 1s 4ms/step - loss: 0.3126 - accuracy: 0.8732 - val_loss: 0.2972 - val_accuracy: 0.8804\n",
      "Epoch 6/50\n",
      "190/190 [==============================] - 1s 3ms/step - loss: 0.3069 - accuracy: 0.8777 - val_loss: 0.2925 - val_accuracy: 0.8830\n",
      "Epoch 7/50\n",
      "190/190 [==============================] - 1s 3ms/step - loss: 0.2970 - accuracy: 0.8820 - val_loss: 0.2872 - val_accuracy: 0.8830\n",
      "Epoch 8/50\n",
      "190/190 [==============================] - 1s 3ms/step - loss: 0.2927 - accuracy: 0.8794 - val_loss: 0.2830 - val_accuracy: 0.8857\n",
      "Epoch 9/50\n",
      "190/190 [==============================] - 1s 3ms/step - loss: 0.2842 - accuracy: 0.8878 - val_loss: 0.2793 - val_accuracy: 0.8863\n",
      "Epoch 10/50\n",
      "190/190 [==============================] - 1s 3ms/step - loss: 0.2755 - accuracy: 0.8903 - val_loss: 0.2712 - val_accuracy: 0.8903\n",
      "Epoch 11/50\n",
      "190/190 [==============================] - 1s 3ms/step - loss: 0.2742 - accuracy: 0.8865 - val_loss: 0.2722 - val_accuracy: 0.8936\n",
      "Epoch 12/50\n",
      "190/190 [==============================] - 1s 3ms/step - loss: 0.2684 - accuracy: 0.8932 - val_loss: 0.2688 - val_accuracy: 0.8890\n",
      "Epoch 13/50\n",
      "190/190 [==============================] - 1s 3ms/step - loss: 0.2685 - accuracy: 0.8927 - val_loss: 0.2684 - val_accuracy: 0.8923\n",
      "Epoch 14/50\n",
      "190/190 [==============================] - 1s 3ms/step - loss: 0.2570 - accuracy: 0.8989 - val_loss: 0.2614 - val_accuracy: 0.8909\n",
      "Epoch 15/50\n",
      "190/190 [==============================] - 1s 3ms/step - loss: 0.2616 - accuracy: 0.8936 - val_loss: 0.2600 - val_accuracy: 0.8949\n",
      "Epoch 16/50\n",
      "190/190 [==============================] - 1s 3ms/step - loss: 0.2584 - accuracy: 0.8985 - val_loss: 0.2610 - val_accuracy: 0.8903\n",
      "Epoch 17/50\n",
      "190/190 [==============================] - 1s 3ms/step - loss: 0.2571 - accuracy: 0.8975 - val_loss: 0.2666 - val_accuracy: 0.8909\n",
      "Epoch 18/50\n",
      "190/190 [==============================] - 1s 3ms/step - loss: 0.2525 - accuracy: 0.8985 - val_loss: 0.2541 - val_accuracy: 0.8976\n",
      "Epoch 19/50\n",
      "190/190 [==============================] - 1s 3ms/step - loss: 0.2535 - accuracy: 0.9018 - val_loss: 0.2569 - val_accuracy: 0.8949\n",
      "Epoch 20/50\n",
      "190/190 [==============================] - 1s 3ms/step - loss: 0.2473 - accuracy: 0.9000 - val_loss: 0.2591 - val_accuracy: 0.8942\n",
      "Epoch 21/50\n",
      "190/190 [==============================] - 1s 3ms/step - loss: 0.2443 - accuracy: 0.9018 - val_loss: 0.2547 - val_accuracy: 0.8916\n",
      "Epoch 22/50\n",
      "190/190 [==============================] - 1s 3ms/step - loss: 0.2450 - accuracy: 0.9030 - val_loss: 0.2559 - val_accuracy: 0.8942\n",
      "Epoch 23/50\n",
      "190/190 [==============================] - 1s 3ms/step - loss: 0.2408 - accuracy: 0.9066 - val_loss: 0.2572 - val_accuracy: 0.8929\n",
      "Epoch 24/50\n",
      "190/190 [==============================] - 1s 3ms/step - loss: 0.2406 - accuracy: 0.9040 - val_loss: 0.2528 - val_accuracy: 0.8976\n",
      "Epoch 25/50\n",
      "190/190 [==============================] - 1s 3ms/step - loss: 0.2357 - accuracy: 0.9051 - val_loss: 0.2585 - val_accuracy: 0.8936\n",
      "Epoch 26/50\n",
      "190/190 [==============================] - 1s 3ms/step - loss: 0.2363 - accuracy: 0.9050 - val_loss: 0.2551 - val_accuracy: 0.8956\n",
      "Epoch 27/50\n",
      "190/190 [==============================] - 1s 3ms/step - loss: 0.2348 - accuracy: 0.9063 - val_loss: 0.2524 - val_accuracy: 0.8969\n",
      "Epoch 28/50\n",
      "190/190 [==============================] - 1s 3ms/step - loss: 0.2317 - accuracy: 0.9061 - val_loss: 0.2515 - val_accuracy: 0.8909\n",
      "Epoch 29/50\n",
      "190/190 [==============================] - 1s 3ms/step - loss: 0.2340 - accuracy: 0.9075 - val_loss: 0.2546 - val_accuracy: 0.8942\n",
      "Epoch 30/50\n",
      "190/190 [==============================] - 1s 3ms/step - loss: 0.2223 - accuracy: 0.9137 - val_loss: 0.2564 - val_accuracy: 0.8909\n",
      "Epoch 31/50\n",
      "190/190 [==============================] - 1s 3ms/step - loss: 0.2274 - accuracy: 0.9070 - val_loss: 0.2527 - val_accuracy: 0.8982\n",
      "Epoch 32/50\n",
      "190/190 [==============================] - 1s 3ms/step - loss: 0.2224 - accuracy: 0.9137 - val_loss: 0.2535 - val_accuracy: 0.8942\n",
      "Epoch 33/50\n",
      "190/190 [==============================] - 1s 3ms/step - loss: 0.2174 - accuracy: 0.9157 - val_loss: 0.2499 - val_accuracy: 0.8976\n",
      "Epoch 34/50\n",
      "190/190 [==============================] - 1s 3ms/step - loss: 0.2199 - accuracy: 0.9119 - val_loss: 0.2636 - val_accuracy: 0.8929\n",
      "Epoch 35/50\n",
      "190/190 [==============================] - 1s 3ms/step - loss: 0.2192 - accuracy: 0.9137 - val_loss: 0.2567 - val_accuracy: 0.8956\n",
      "Epoch 36/50\n",
      "190/190 [==============================] - 1s 3ms/step - loss: 0.2171 - accuracy: 0.9154 - val_loss: 0.2568 - val_accuracy: 0.8956\n",
      "Epoch 37/50\n",
      "190/190 [==============================] - 1s 3ms/step - loss: 0.2180 - accuracy: 0.9141 - val_loss: 0.2616 - val_accuracy: 0.8942\n",
      "Epoch 38/50\n",
      "190/190 [==============================] - 1s 3ms/step - loss: 0.2134 - accuracy: 0.9134 - val_loss: 0.2585 - val_accuracy: 0.8903\n",
      "Epoch 39/50\n",
      "190/190 [==============================] - 1s 3ms/step - loss: 0.2106 - accuracy: 0.9190 - val_loss: 0.2534 - val_accuracy: 0.8936\n",
      "Epoch 40/50\n",
      "190/190 [==============================] - 1s 3ms/step - loss: 0.2092 - accuracy: 0.9156 - val_loss: 0.2578 - val_accuracy: 0.8949\n",
      "Epoch 41/50\n",
      "190/190 [==============================] - 1s 3ms/step - loss: 0.2061 - accuracy: 0.9207 - val_loss: 0.2551 - val_accuracy: 0.8962\n",
      "Epoch 42/50\n",
      "190/190 [==============================] - 1s 3ms/step - loss: 0.2096 - accuracy: 0.9179 - val_loss: 0.2620 - val_accuracy: 0.8976\n",
      "Epoch 43/50\n",
      "190/190 [==============================] - 1s 3ms/step - loss: 0.2089 - accuracy: 0.9194 - val_loss: 0.2593 - val_accuracy: 0.8976\n",
      "Epoch 44/50\n",
      "190/190 [==============================] - 1s 3ms/step - loss: 0.2087 - accuracy: 0.9187 - val_loss: 0.2616 - val_accuracy: 0.8989\n",
      "Epoch 45/50\n",
      "190/190 [==============================] - 1s 3ms/step - loss: 0.2009 - accuracy: 0.9241 - val_loss: 0.2560 - val_accuracy: 0.8982\n",
      "Epoch 46/50\n",
      "190/190 [==============================] - 1s 3ms/step - loss: 0.2075 - accuracy: 0.9189 - val_loss: 0.2569 - val_accuracy: 0.8969\n",
      "Epoch 47/50\n",
      "190/190 [==============================] - 1s 3ms/step - loss: 0.1996 - accuracy: 0.9198 - val_loss: 0.2585 - val_accuracy: 0.8982\n",
      "Epoch 48/50\n",
      "190/190 [==============================] - 1s 3ms/step - loss: 0.2029 - accuracy: 0.9213 - val_loss: 0.2546 - val_accuracy: 0.8969\n",
      "Epoch 49/50\n",
      "190/190 [==============================] - 0s 3ms/step - loss: 0.2021 - accuracy: 0.9220 - val_loss: 0.2570 - val_accuracy: 0.8969\n",
      "Epoch 50/50\n",
      "190/190 [==============================] - 0s 2ms/step - loss: 0.2007 - accuracy: 0.9184 - val_loss: 0.2598 - val_accuracy: 0.8942\n"
     ]
    }
   ],
   "source": [
    "history = model.fit(X_train, y_train, validation_split=0.2, epochs=50, batch_size=32)"
   ]
  },
  {
   "cell_type": "code",
   "execution_count": 40,
   "id": "e3b657b2-9f5c-4b8b-a61e-39d4caece587",
   "metadata": {},
   "outputs": [
    {
     "name": "stdout",
     "output_type": "stream",
     "text": [
      "60/60 [==============================] - 0s 2ms/step - loss: 0.2689 - accuracy: 0.8995\n"
     ]
    }
   ],
   "source": [
    "loss, accuracy = model.evaluate(X_test, y_test)"
   ]
  },
  {
   "cell_type": "code",
   "execution_count": 41,
   "id": "55002407-1b63-4c30-945e-16ebad29bec3",
   "metadata": {},
   "outputs": [
    {
     "name": "stdout",
     "output_type": "stream",
     "text": [
      "Acurácia no teste: 0.8995240330696106\n"
     ]
    }
   ],
   "source": [
    "print(\"Acurácia no teste:\", accuracy)"
   ]
  },
  {
   "cell_type": "code",
   "execution_count": 42,
   "id": "859b0f7c-2506-417b-bea6-68f2b3dc7dd2",
   "metadata": {},
   "outputs": [
    {
     "name": "stdout",
     "output_type": "stream",
     "text": [
      "60/60 [==============================] - 0s 1ms/step\n"
     ]
    }
   ],
   "source": [
    "y_prob = model.predict(X_test).flatten()"
   ]
  },
  {
   "cell_type": "code",
   "execution_count": 43,
   "id": "637bef28-edda-431e-bcd6-64d60c2979a8",
   "metadata": {},
   "outputs": [
    {
     "name": "stdout",
     "output_type": "stream",
     "text": [
      "Clientes com probabilidade > 70.0%: [  11   22   33   45   66   94  111  129  130  139  146  167  170  182\n",
      "  184  193  198  209  216  225  226  243  246  263  270  271  304  310\n",
      "  329  359  383  385  395  398  400  406  409  425  426  434  448  450\n",
      "  454  456  465  466  475  479  513  532  536  546  551  565  589  622\n",
      "  630  674  678  679  682  683  699  701  718  723  728  751  759  766\n",
      "  792  795  810  816  836  857  870  875  883  897  930  933  942  959\n",
      "  970  971  973  985  986 1015 1033 1039 1046 1065 1067 1068 1087 1089\n",
      " 1092 1110 1120 1129 1136 1138 1161 1164 1166 1170 1174 1196 1201 1212\n",
      " 1238 1243 1244 1261 1263 1278 1291 1294 1312 1317 1320 1329 1338 1340\n",
      " 1365 1367 1372 1379 1380 1415 1419 1427 1434 1443 1469 1478 1503 1544\n",
      " 1545 1552 1561 1565 1580 1587 1594 1609 1613 1627 1634 1639 1649 1654\n",
      " 1661 1667 1668 1681 1682 1684 1698 1706 1709 1710 1722 1728 1730 1775\n",
      " 1788 1795 1818 1835 1838 1841 1847 1849 1865 1884 1888]\n"
     ]
    }
   ],
   "source": [
    "threshold = 0.7\n",
    "clientes_alvo = np.where(y_prob > threshold)[0]\n",
    "print(f\"Clientes com probabilidade > {threshold*100}%:\", clientes_alvo)"
   ]
  },
  {
   "cell_type": "code",
   "execution_count": 45,
   "id": "62fa1c8d-4cd5-4211-873c-8e5d147f8c14",
   "metadata": {},
   "outputs": [],
   "source": [
    "model.save(\"rnn_churn_model.keras\")"
   ]
  },
  {
   "cell_type": "code",
   "execution_count": null,
   "id": "c43533f2-17e4-4006-863a-90dfd458651d",
   "metadata": {},
   "outputs": [],
   "source": []
  }
 ],
 "metadata": {
  "kernelspec": {
   "display_name": "Python 3 (ipykernel)",
   "language": "python",
   "name": "python3"
  },
  "language_info": {
   "codemirror_mode": {
    "name": "ipython",
    "version": 3
   },
   "file_extension": ".py",
   "mimetype": "text/x-python",
   "name": "python",
   "nbconvert_exporter": "python",
   "pygments_lexer": "ipython3",
   "version": "3.10.12"
  }
 },
 "nbformat": 4,
 "nbformat_minor": 5
}
