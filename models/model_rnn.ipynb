{
 "cells": [
  {
   "cell_type": "code",
   "execution_count": 51,
   "id": "52214585",
   "metadata": {},
   "outputs": [],
   "source": [
    "import pandas as pd\n",
    "import numpy as np\n",
    "import tensorflow as tf\n",
    "\n",
    "from sklearn.model_selection import train_test_split\n",
    "from sklearn.preprocessing import StandardScaler, OneHotEncoder\n",
    "from sklearn.compose import ColumnTransformer\n",
    "from sklearn.pipeline import Pipeline\n",
    "from sklearn.metrics import precision_recall_fscore_support, roc_auc_score, roc_curve\n",
    "from imblearn.over_sampling import SMOTE\n",
    "\n",
    "\n",
    "from tensorflow.keras.models import Sequential\n",
    "from tensorflow.keras.layers import Dense, Dropout\n",
    "import joblib"
   ]
  },
  {
   "cell_type": "code",
   "execution_count": 52,
   "id": "c1892e91",
   "metadata": {},
   "outputs": [],
   "source": [
    "df_churn = pd.read_csv(\"../src/dataset_churn_balanceado.csv\")"
   ]
  },
  {
   "cell_type": "code",
   "execution_count": 53,
   "id": "54899705-8e3f-4399-8aac-5919058c00f5",
   "metadata": {},
   "outputs": [
    {
     "data": {
      "text/plain": [
       "Churn\n",
       "1    0.5\n",
       "0    0.5\n",
       "Name: proportion, dtype: float64"
      ]
     },
     "execution_count": 53,
     "metadata": {},
     "output_type": "execute_result"
    }
   ],
   "source": [
    "df_churn['Churn'].value_counts(normalize=True)"
   ]
  },
  {
   "cell_type": "code",
   "execution_count": 54,
   "id": "cdc15f81-7645-4698-a968-8548e36c3165",
   "metadata": {},
   "outputs": [
    {
     "data": {
      "text/plain": [
       "(12368, 29)"
      ]
     },
     "execution_count": 54,
     "metadata": {},
     "output_type": "execute_result"
    }
   ],
   "source": [
    "df_churn.shape"
   ]
  },
  {
   "cell_type": "code",
   "execution_count": 55,
   "id": "26ab5f90",
   "metadata": {},
   "outputs": [
    {
     "data": {
      "text/plain": [
       "Index(['Unnamed: 0', 'CreditScore', 'Age', 'Tenure', 'Balance',\n",
       "       'NumOfProducts', 'HasCrCard', 'IsActiveMember', 'EstimatedSalary',\n",
       "       'days_since_last_tx', 'txs_avg_amount', 'amount_std',\n",
       "       'avg_cashout_amount', 'ratio_recent_vs_past_txs',\n",
       "       'ratio_recent_vs_past_amount', 'ratio_cashouts', 'ratio_transfers',\n",
       "       'inflation_pressure', 'days_since_last_ss', 'total_ss_past30d',\n",
       "       'total_ss_past90d', 'avg_ss_per_wk', 'avg_ss_duration_min',\n",
       "       'std_ss_duration_min', 'ratio_ss_time_recent_vs_past',\n",
       "       'ratio_events_sessios', 'ratio_failed_ss', 'total_opened_push',\n",
       "       'Churn'],\n",
       "      dtype='object')"
      ]
     },
     "execution_count": 55,
     "metadata": {},
     "output_type": "execute_result"
    }
   ],
   "source": [
    "df_churn.columns"
   ]
  },
  {
   "cell_type": "code",
   "execution_count": 56,
   "id": "638eed70-6277-48bc-ae7d-a13540542f6d",
   "metadata": {},
   "outputs": [],
   "source": [
    "features = ['CreditScore', 'Age', 'Tenure',\n",
    "       'Balance', 'NumOfProducts', 'HasCrCard', 'IsActiveMember',\n",
    "       'EstimatedSalary', 'days_since_last_tx', 'txs_avg_amount', 'amount_std',\n",
    "       'avg_cashout_amount', 'ratio_recent_vs_past_txs',\n",
    "       'ratio_recent_vs_past_amount', 'ratio_cashouts', 'ratio_transfers',\n",
    "       'inflation_pressure', 'days_since_last_ss', 'total_ss_past30d',\n",
    "       'total_ss_past90d', 'avg_ss_per_wk', 'avg_ss_duration_min',\n",
    "       'std_ss_duration_min', 'ratio_ss_time_recent_vs_past',\n",
    "       'ratio_events_sessios', 'ratio_failed_ss', 'total_opened_push']"
   ]
  },
  {
   "cell_type": "code",
   "execution_count": 57,
   "id": "e56ea2d2",
   "metadata": {},
   "outputs": [],
   "source": [
    "X = df_churn[features]"
   ]
  },
  {
   "cell_type": "code",
   "execution_count": 58,
   "id": "5a75132c",
   "metadata": {},
   "outputs": [],
   "source": [
    "y = df_churn[['Churn']]"
   ]
  },
  {
   "cell_type": "code",
   "execution_count": 59,
   "id": "7a5ba02f",
   "metadata": {},
   "outputs": [
    {
     "name": "stdout",
     "output_type": "stream",
     "text": [
      "(12368, 27)\n",
      "(12368, 1)\n"
     ]
    }
   ],
   "source": [
    "print(X.shape)\n",
    "print(y.shape)"
   ]
  },
  {
   "cell_type": "code",
   "execution_count": 60,
   "id": "517c7b80",
   "metadata": {},
   "outputs": [],
   "source": [
    "X = pd.get_dummies(X, drop_first=True)"
   ]
  },
  {
   "cell_type": "code",
   "execution_count": 61,
   "id": "9d1a4f24-877e-473e-b76e-1d0f66ef4e24",
   "metadata": {},
   "outputs": [],
   "source": [
    "scaler = StandardScaler()"
   ]
  },
  {
   "cell_type": "code",
   "execution_count": 62,
   "id": "5f6874ab-0bfe-46cb-9c2e-ec014272aad0",
   "metadata": {},
   "outputs": [],
   "source": [
    "preprocessor = ColumnTransformer(\n",
    "    transformers=[\n",
    "        ('num', scaler , features)\n",
    "    ]\n",
    ")"
   ]
  },
  {
   "cell_type": "code",
   "execution_count": 63,
   "id": "3e3653d2-384d-4d68-875a-5dd3bd8aa568",
   "metadata": {},
   "outputs": [],
   "source": [
    "X_processed = preprocessor.fit_transform(X)"
   ]
  },
  {
   "cell_type": "code",
   "execution_count": 64,
   "id": "463fb754-18c2-494f-9838-d4dccca2ece7",
   "metadata": {},
   "outputs": [
    {
     "data": {
      "text/plain": [
       "['pipeline_churn.pkl']"
      ]
     },
     "execution_count": 64,
     "metadata": {},
     "output_type": "execute_result"
    }
   ],
   "source": [
    "joblib.dump(preprocessor, \"pipeline_churn.pkl\") "
   ]
  },
  {
   "cell_type": "code",
   "execution_count": 65,
   "id": "9432981f-7ab2-415c-86dd-70e33838ad58",
   "metadata": {},
   "outputs": [
    {
     "data": {
      "text/plain": [
       "(12368, 27)"
      ]
     },
     "execution_count": 65,
     "metadata": {},
     "output_type": "execute_result"
    }
   ],
   "source": [
    "X_processed.shape"
   ]
  },
  {
   "cell_type": "code",
   "execution_count": 66,
   "id": "bf83869d-bcf1-4d53-8c1d-5764ca4122a4",
   "metadata": {},
   "outputs": [],
   "source": [
    "X_train, X_test, y_train, y_test = train_test_split(X_processed ,y, test_size=0.2, random_state=42)"
   ]
  },
  {
   "cell_type": "code",
   "execution_count": 67,
   "id": "b4b629cf-8acb-4296-93d3-34f168f3fd2f",
   "metadata": {},
   "outputs": [],
   "source": [
    "from tensorflow.keras.models import Sequential\n",
    "from tensorflow.keras.layers import Dense, Dropout\n",
    "\n",
    "model = Sequential([\n",
    "    Dense(64, activation='relu', input_shape=(X_train.shape[1],)),  \n",
    "    Dropout(0.3), \n",
    "    Dense(32, activation='relu'), \n",
    "    Dense(1, activation='sigmoid')  \n",
    "])"
   ]
  },
  {
   "cell_type": "code",
   "execution_count": 68,
   "id": "2184bbd6-3222-43e2-bd72-24c30f107b8a",
   "metadata": {},
   "outputs": [
    {
     "name": "stdout",
     "output_type": "stream",
     "text": [
      "Model: \"sequential\"\n",
      "_________________________________________________________________\n",
      " Layer (type)                Output Shape              Param #   \n",
      "=================================================================\n",
      " dense (Dense)               (None, 64)                1792      \n",
      "                                                                 \n",
      " dropout (Dropout)           (None, 64)                0         \n",
      "                                                                 \n",
      " dense_1 (Dense)             (None, 32)                2080      \n",
      "                                                                 \n",
      " dense_2 (Dense)             (None, 1)                 33        \n",
      "                                                                 \n",
      "=================================================================\n",
      "Total params: 3905 (15.25 KB)\n",
      "Trainable params: 3905 (15.25 KB)\n",
      "Non-trainable params: 0 (0.00 Byte)\n",
      "_________________________________________________________________\n"
     ]
    }
   ],
   "source": [
    "model.summary()\n"
   ]
  },
  {
   "cell_type": "code",
   "execution_count": 69,
   "id": "3d5b0d72-2c24-4e0d-a364-cb45ce8e3d40",
   "metadata": {},
   "outputs": [],
   "source": [
    "model.compile(optimizer='adam', loss='binary_crossentropy', metrics=['accuracy'])"
   ]
  },
  {
   "cell_type": "code",
   "execution_count": 70,
   "id": "d846a0e4-e546-4882-ac8f-9190c5e33158",
   "metadata": {},
   "outputs": [
    {
     "name": "stdout",
     "output_type": "stream",
     "text": [
      "Epoch 1/50\n",
      "248/248 [==============================] - 29s 8ms/step - loss: 0.4734 - accuracy: 0.7775 - val_loss: 0.3628 - val_accuracy: 0.8459\n",
      "Epoch 2/50\n",
      "248/248 [==============================] - 1s 3ms/step - loss: 0.3781 - accuracy: 0.8369 - val_loss: 0.3382 - val_accuracy: 0.8595\n",
      "Epoch 3/50\n",
      "248/248 [==============================] - 1s 3ms/step - loss: 0.3588 - accuracy: 0.8455 - val_loss: 0.3260 - val_accuracy: 0.8626\n",
      "Epoch 4/50\n",
      "248/248 [==============================] - 1s 3ms/step - loss: 0.3447 - accuracy: 0.8531 - val_loss: 0.3168 - val_accuracy: 0.8656\n",
      "Epoch 5/50\n",
      "248/248 [==============================] - 1s 3ms/step - loss: 0.3395 - accuracy: 0.8546 - val_loss: 0.3067 - val_accuracy: 0.8752\n",
      "Epoch 6/50\n",
      "248/248 [==============================] - 1s 3ms/step - loss: 0.3252 - accuracy: 0.8618 - val_loss: 0.3027 - val_accuracy: 0.8742\n",
      "Epoch 7/50\n",
      "248/248 [==============================] - 1s 3ms/step - loss: 0.3183 - accuracy: 0.8643 - val_loss: 0.2973 - val_accuracy: 0.8701\n",
      "Epoch 8/50\n",
      "248/248 [==============================] - 1s 3ms/step - loss: 0.3157 - accuracy: 0.8656 - val_loss: 0.2884 - val_accuracy: 0.8752\n",
      "Epoch 9/50\n",
      "248/248 [==============================] - 1s 4ms/step - loss: 0.3035 - accuracy: 0.8690 - val_loss: 0.2896 - val_accuracy: 0.8727\n",
      "Epoch 10/50\n",
      "248/248 [==============================] - 1s 3ms/step - loss: 0.3025 - accuracy: 0.8713 - val_loss: 0.2818 - val_accuracy: 0.8742\n",
      "Epoch 11/50\n",
      "248/248 [==============================] - 1s 3ms/step - loss: 0.2916 - accuracy: 0.8763 - val_loss: 0.2785 - val_accuracy: 0.8802\n",
      "Epoch 12/50\n",
      "248/248 [==============================] - 1s 3ms/step - loss: 0.2957 - accuracy: 0.8776 - val_loss: 0.2801 - val_accuracy: 0.8797\n",
      "Epoch 13/50\n",
      "248/248 [==============================] - 1s 3ms/step - loss: 0.2869 - accuracy: 0.8793 - val_loss: 0.2728 - val_accuracy: 0.8782\n",
      "Epoch 14/50\n",
      "248/248 [==============================] - 1s 3ms/step - loss: 0.2852 - accuracy: 0.8787 - val_loss: 0.2679 - val_accuracy: 0.8868\n",
      "Epoch 15/50\n",
      "248/248 [==============================] - 1s 3ms/step - loss: 0.2789 - accuracy: 0.8829 - val_loss: 0.2726 - val_accuracy: 0.8868\n",
      "Epoch 16/50\n",
      "248/248 [==============================] - 1s 3ms/step - loss: 0.2811 - accuracy: 0.8805 - val_loss: 0.2642 - val_accuracy: 0.8843\n",
      "Epoch 17/50\n",
      "248/248 [==============================] - 1s 3ms/step - loss: 0.2778 - accuracy: 0.8873 - val_loss: 0.2671 - val_accuracy: 0.8843\n",
      "Epoch 18/50\n",
      "248/248 [==============================] - 1s 3ms/step - loss: 0.2703 - accuracy: 0.8886 - val_loss: 0.2621 - val_accuracy: 0.8903\n",
      "Epoch 19/50\n",
      "248/248 [==============================] - 1s 3ms/step - loss: 0.2744 - accuracy: 0.8869 - val_loss: 0.2630 - val_accuracy: 0.8898\n",
      "Epoch 20/50\n",
      "248/248 [==============================] - 1s 3ms/step - loss: 0.2661 - accuracy: 0.8905 - val_loss: 0.2653 - val_accuracy: 0.8853\n",
      "Epoch 21/50\n",
      "248/248 [==============================] - 1s 3ms/step - loss: 0.2636 - accuracy: 0.8891 - val_loss: 0.2638 - val_accuracy: 0.8873\n",
      "Epoch 22/50\n",
      "248/248 [==============================] - 1s 3ms/step - loss: 0.2654 - accuracy: 0.8874 - val_loss: 0.2561 - val_accuracy: 0.8853\n",
      "Epoch 23/50\n",
      "248/248 [==============================] - 1s 3ms/step - loss: 0.2612 - accuracy: 0.8910 - val_loss: 0.2607 - val_accuracy: 0.8893\n",
      "Epoch 24/50\n",
      "248/248 [==============================] - 1s 3ms/step - loss: 0.2564 - accuracy: 0.8975 - val_loss: 0.2570 - val_accuracy: 0.8909\n",
      "Epoch 25/50\n",
      "248/248 [==============================] - 1s 3ms/step - loss: 0.2553 - accuracy: 0.8927 - val_loss: 0.2538 - val_accuracy: 0.8939\n",
      "Epoch 26/50\n",
      "248/248 [==============================] - 1s 3ms/step - loss: 0.2537 - accuracy: 0.8964 - val_loss: 0.2528 - val_accuracy: 0.8934\n",
      "Epoch 27/50\n",
      "248/248 [==============================] - 1s 3ms/step - loss: 0.2513 - accuracy: 0.8969 - val_loss: 0.2502 - val_accuracy: 0.8903\n",
      "Epoch 28/50\n",
      "248/248 [==============================] - 1s 3ms/step - loss: 0.2512 - accuracy: 0.8958 - val_loss: 0.2577 - val_accuracy: 0.8893\n",
      "Epoch 29/50\n",
      "248/248 [==============================] - 1s 3ms/step - loss: 0.2484 - accuracy: 0.8961 - val_loss: 0.2633 - val_accuracy: 0.8903\n",
      "Epoch 30/50\n",
      "248/248 [==============================] - 1s 3ms/step - loss: 0.2497 - accuracy: 0.8996 - val_loss: 0.2500 - val_accuracy: 0.8919\n",
      "Epoch 31/50\n",
      "248/248 [==============================] - 1s 3ms/step - loss: 0.2461 - accuracy: 0.9001 - val_loss: 0.2511 - val_accuracy: 0.8949\n",
      "Epoch 32/50\n",
      "248/248 [==============================] - 1s 3ms/step - loss: 0.2441 - accuracy: 0.8983 - val_loss: 0.2452 - val_accuracy: 0.8954\n",
      "Epoch 33/50\n",
      "248/248 [==============================] - 1s 3ms/step - loss: 0.2407 - accuracy: 0.8978 - val_loss: 0.2454 - val_accuracy: 0.8949\n",
      "Epoch 34/50\n",
      "248/248 [==============================] - 1s 3ms/step - loss: 0.2393 - accuracy: 0.9025 - val_loss: 0.2452 - val_accuracy: 0.8949\n",
      "Epoch 35/50\n",
      "248/248 [==============================] - 1s 3ms/step - loss: 0.2359 - accuracy: 0.9027 - val_loss: 0.2479 - val_accuracy: 0.8914\n",
      "Epoch 36/50\n",
      "248/248 [==============================] - 1s 3ms/step - loss: 0.2387 - accuracy: 0.9030 - val_loss: 0.2477 - val_accuracy: 0.8939\n",
      "Epoch 37/50\n",
      "248/248 [==============================] - 1s 3ms/step - loss: 0.2376 - accuracy: 0.9012 - val_loss: 0.2417 - val_accuracy: 0.8949\n",
      "Epoch 38/50\n",
      "248/248 [==============================] - 1s 3ms/step - loss: 0.2369 - accuracy: 0.9015 - val_loss: 0.2379 - val_accuracy: 0.8954\n",
      "Epoch 39/50\n",
      "248/248 [==============================] - 1s 3ms/step - loss: 0.2358 - accuracy: 0.9054 - val_loss: 0.2441 - val_accuracy: 0.8959\n",
      "Epoch 40/50\n",
      "248/248 [==============================] - 1s 3ms/step - loss: 0.2315 - accuracy: 0.9066 - val_loss: 0.2414 - val_accuracy: 0.8954\n",
      "Epoch 41/50\n",
      "248/248 [==============================] - 1s 3ms/step - loss: 0.2274 - accuracy: 0.9087 - val_loss: 0.2400 - val_accuracy: 0.8974\n",
      "Epoch 42/50\n",
      "248/248 [==============================] - 1s 3ms/step - loss: 0.2316 - accuracy: 0.9069 - val_loss: 0.2437 - val_accuracy: 0.8979\n",
      "Epoch 43/50\n",
      "248/248 [==============================] - 1s 3ms/step - loss: 0.2285 - accuracy: 0.9049 - val_loss: 0.2410 - val_accuracy: 0.8969\n",
      "Epoch 44/50\n",
      "248/248 [==============================] - 1s 3ms/step - loss: 0.2280 - accuracy: 0.9050 - val_loss: 0.2419 - val_accuracy: 0.8994\n",
      "Epoch 45/50\n",
      "248/248 [==============================] - 1s 3ms/step - loss: 0.2279 - accuracy: 0.9064 - val_loss: 0.2407 - val_accuracy: 0.8989\n",
      "Epoch 46/50\n",
      "248/248 [==============================] - 1s 3ms/step - loss: 0.2280 - accuracy: 0.9080 - val_loss: 0.2407 - val_accuracy: 0.8979\n",
      "Epoch 47/50\n",
      "248/248 [==============================] - 1s 3ms/step - loss: 0.2234 - accuracy: 0.9060 - val_loss: 0.2407 - val_accuracy: 0.8959\n",
      "Epoch 48/50\n",
      "248/248 [==============================] - 1s 3ms/step - loss: 0.2226 - accuracy: 0.9107 - val_loss: 0.2390 - val_accuracy: 0.9025\n",
      "Epoch 49/50\n",
      "248/248 [==============================] - 1s 3ms/step - loss: 0.2255 - accuracy: 0.9045 - val_loss: 0.2450 - val_accuracy: 0.8964\n",
      "Epoch 50/50\n",
      "248/248 [==============================] - 1s 3ms/step - loss: 0.2259 - accuracy: 0.9081 - val_loss: 0.2439 - val_accuracy: 0.8979\n"
     ]
    }
   ],
   "source": [
    "history = model.fit(X_train, y_train, validation_split=0.2, epochs=50, batch_size=32)"
   ]
  },
  {
   "cell_type": "code",
   "execution_count": 71,
   "id": "e3b657b2-9f5c-4b8b-a61e-39d4caece587",
   "metadata": {},
   "outputs": [
    {
     "name": "stdout",
     "output_type": "stream",
     "text": [
      "78/78 [==============================] - 1s 7ms/step - loss: 0.2484 - accuracy: 0.9030\n"
     ]
    }
   ],
   "source": [
    "loss, accuracy = model.evaluate(X_test, y_test)"
   ]
  },
  {
   "cell_type": "code",
   "execution_count": 72,
   "id": "55002407-1b63-4c30-945e-16ebad29bec3",
   "metadata": {},
   "outputs": [
    {
     "name": "stdout",
     "output_type": "stream",
     "text": [
      "Acurácia no teste: 0.9029911160469055\n"
     ]
    }
   ],
   "source": [
    "print(\"Acurácia no teste:\", accuracy)"
   ]
  },
  {
   "cell_type": "code",
   "execution_count": 73,
   "id": "859b0f7c-2506-417b-bea6-68f2b3dc7dd2",
   "metadata": {},
   "outputs": [
    {
     "name": "stdout",
     "output_type": "stream",
     "text": [
      "78/78 [==============================] - 0s 2ms/step\n"
     ]
    }
   ],
   "source": [
    "y_prob = model.predict(X_test).flatten()"
   ]
  },
  {
   "cell_type": "code",
   "execution_count": 74,
   "id": "637bef28-edda-431e-bcd6-64d60c2979a8",
   "metadata": {},
   "outputs": [
    {
     "name": "stdout",
     "output_type": "stream",
     "text": [
      " Clientes: 2474 | Clientes com probabilidade > 70.0%: 1109\n"
     ]
    }
   ],
   "source": [
    "threshold = 0.7\n",
    "clientes_alvo = np.where(y_prob > threshold)[0]\n",
    "print(f\" Clientes: {len(y_prob)} | Clientes com probabilidade > {threshold*100}%:\", len(clientes_alvo))"
   ]
  },
  {
   "cell_type": "code",
   "execution_count": 75,
   "id": "3513c1fc-0f3f-4bef-ae60-6701da09e537",
   "metadata": {},
   "outputs": [],
   "source": [
    "from sklearn.metrics import precision_recall_fscore_support, roc_auc_score, roc_curve"
   ]
  },
  {
   "cell_type": "code",
   "execution_count": 76,
   "id": "80e68169-ce4a-4d37-8d76-d33c7c89b608",
   "metadata": {},
   "outputs": [],
   "source": [
    "y_pred = (y_prob >= threshold).astype(int)"
   ]
  },
  {
   "cell_type": "code",
   "execution_count": 77,
   "id": "d771c0e2-50e9-43d2-90d9-ef4ca0ffe80e",
   "metadata": {},
   "outputs": [],
   "source": [
    "precision, recall, f1, _ = precision_recall_fscore_support(\n",
    "        y_test, y_pred, average='binary'\n",
    ")"
   ]
  },
  {
   "cell_type": "code",
   "execution_count": 78,
   "id": "6c120e6e-c584-44b5-bdaa-15dd1a12f9c1",
   "metadata": {},
   "outputs": [],
   "source": [
    "roc_auc = roc_auc_score(y_test, y_prob)"
   ]
  },
  {
   "cell_type": "code",
   "execution_count": 79,
   "id": "d6d771f2-a6dc-40ab-ad0e-aff7ae987db8",
   "metadata": {},
   "outputs": [],
   "source": [
    "results = []\n",
    "results.append([precision, recall, f1, roc_auc])"
   ]
  },
  {
   "cell_type": "code",
   "execution_count": 80,
   "id": "bd4be7ac-50cf-4ab0-a856-975cadfbb531",
   "metadata": {},
   "outputs": [
    {
     "name": "stdout",
     "output_type": "stream",
     "text": [
      "\n",
      "📊 Média das métricas:\n",
      "Precision    0.943192\n",
      "Recall       0.838141\n",
      "F1           0.887569\n",
      "ROC AUC      0.962435\n",
      "dtype: float64\n"
     ]
    }
   ],
   "source": [
    "results = np.array(results)\n",
    "metrics_df = pd.DataFrame(results, columns=['Precision', 'Recall', 'F1', 'ROC AUC'])\n",
    "print(\"\\n📊 Média das métricas:\")\n",
    "print(metrics_df.mean())\n"
   ]
  },
  {
   "cell_type": "code",
   "execution_count": 81,
   "id": "62fa1c8d-4cd5-4211-873c-8e5d147f8c14",
   "metadata": {},
   "outputs": [],
   "source": [
    "model.save(\"rnn_churn_model.keras\")"
   ]
  },
  {
   "cell_type": "code",
   "execution_count": 82,
   "id": "c43533f2-17e4-4006-863a-90dfd458651d",
   "metadata": {},
   "outputs": [],
   "source": [
    "tf.keras.backend.clear_session()"
   ]
  },
  {
   "cell_type": "code",
   "execution_count": null,
   "id": "435b0f48-a29a-4105-a70c-78e0aee35e13",
   "metadata": {},
   "outputs": [],
   "source": []
  }
 ],
 "metadata": {
  "kernelspec": {
   "display_name": "Python 3 (ipykernel)",
   "language": "python",
   "name": "python3"
  },
  "language_info": {
   "codemirror_mode": {
    "name": "ipython",
    "version": 3
   },
   "file_extension": ".py",
   "mimetype": "text/x-python",
   "name": "python",
   "nbconvert_exporter": "python",
   "pygments_lexer": "ipython3",
   "version": "3.10.12"
  }
 },
 "nbformat": 4,
 "nbformat_minor": 5
}
